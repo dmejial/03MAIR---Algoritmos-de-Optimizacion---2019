{
  "nbformat": 4,
  "nbformat_minor": 0,
  "metadata": {
    "colab": {
      "name": "Diego_Mejia_Seminario.ipynb",
      "provenance": [],
      "collapsed_sections": [],
      "include_colab_link": true
    },
    "kernelspec": {
      "name": "python3",
      "display_name": "Python 3"
    }
  },
  "cells": [
    {
      "cell_type": "markdown",
      "metadata": {
        "id": "view-in-github",
        "colab_type": "text"
      },
      "source": [
        "<a href=\"https://colab.research.google.com/github/dmejial/03MAIR---Algoritmos-de-Optimizacion---2019/blob/master/Seminario/Diego_Mejia_Seminario.ipynb\" target=\"_parent\"><img src=\"https://colab.research.google.com/assets/colab-badge.svg\" alt=\"Open In Colab\"/></a>"
      ]
    },
    {
      "cell_type": "markdown",
      "metadata": {
        "id": "RSdjSls85In5",
        "colab_type": "text"
      },
      "source": [
        "Seminario  \n",
        "Diego Mejía Lleras  \n",
        "https://github.com/dmejial/03MAIR---Algoritmos-de-Optimizacion---2019/tree/master/Seminario  \n",
        "https://colab.research.google.com/drive/1sAlYDsWwHZYmbJ1TCgTy5tk5M59KWEhs#scrollTo=RSdjSls85In5\n"
      ]
    },
    {
      "cell_type": "markdown",
      "metadata": {
        "id": "ZdZnwFqio-6A",
        "colab_type": "text"
      },
      "source": [
        "#Solución Problema Seminario"
      ]
    },
    {
      "cell_type": "markdown",
      "metadata": {
        "id": "DTMiebXQIcY1",
        "colab_type": "text"
      },
      "source": [
        "Disponemos de las 9 cifras del 1 al 9 (excluimos el cero) y de los 4 signos básicos de las\n",
        "operaciones fundamentales: suma(+), resta(-), multiplicación(*) y división(/).   \n",
        "\n",
        "Debemos combinarlos alternativamente sin repetir ninguno de ellos para obtener una\n",
        "cantidad dada. Un ejemplo sería para obtener el 4:\n",
        "4+2-6/3*1 = 4"
      ]
    },
    {
      "cell_type": "markdown",
      "metadata": {
        "id": "J5RM4EDkItxk",
        "colab_type": "text"
      },
      "source": [
        "#1) ¿Cuántas Posibilidades hay sin tener en cuanta restricciones?"
      ]
    },
    {
      "cell_type": "markdown",
      "metadata": {
        "id": "cGpeddv95ym-",
        "colab_type": "text"
      },
      "source": [
        "Hay (9P5)*4! formas de combinar 5 numeros extraídos de una lista de 9 números con 4 operaciones no repetidas básicas."
      ]
    },
    {
      "cell_type": "markdown",
      "metadata": {
        "id": "35M5s-fx8Atk",
        "colab_type": "text"
      },
      "source": [
        "#2) ¿Cuál es la estructura de datos que mejor se adapta al problema?"
      ]
    },
    {
      "cell_type": "markdown",
      "metadata": {
        "id": "QCzHWE288Zek",
        "colab_type": "text"
      },
      "source": [
        "Una tupla de números de tamaño 5 alternados por signos."
      ]
    },
    {
      "cell_type": "markdown",
      "metadata": {
        "id": "S-ExVsdP8zNn",
        "colab_type": "text"
      },
      "source": [
        "#3)¿Cuál es la función objetivo?"
      ]
    },
    {
      "cell_type": "markdown",
      "metadata": {
        "id": "IDY3tqza87Lz",
        "colab_type": "text"
      },
      "source": [
        "El valor que resulta de combinar la lista de números con los operadores. Se quiere minimizar la distancia entre este cálculo y el valor objetivo buscado."
      ]
    },
    {
      "cell_type": "markdown",
      "metadata": {
        "id": "Tg_tCtja9G-C",
        "colab_type": "text"
      },
      "source": [
        "#4) ¿Es un problema de minimización o maximización?"
      ]
    },
    {
      "cell_type": "markdown",
      "metadata": {
        "id": "H6oIlxLO-tFp",
        "colab_type": "text"
      },
      "source": [
        "Se puede plantear el problema como un problema de minimizar la distancia o diferencia entre la solución que resulta de combinar la lista con los operadores matemáticos y el valor de referencia que se busca encontrar. "
      ]
    },
    {
      "cell_type": "markdown",
      "metadata": {
        "id": "p20kyqf8-pKl",
        "colab_type": "text"
      },
      "source": [
        "#5) Algoritmo Fuerza Bruta"
      ]
    },
    {
      "cell_type": "code",
      "metadata": {
        "id": "mX65EMbyDPHK",
        "colab_type": "code",
        "colab": {}
      },
      "source": [
        "#####Costruimos una función combinatoria con argumentos (1) vector a combinar y (2) el tamaño del vector final\n",
        "def xcombinations(array, n):\n",
        "    if n==0: yield []\n",
        "    else:\n",
        "        for i in range(len(array)):\n",
        "            for cc in xcombinations(array[:i]+array[i+1:],n-1):\n",
        "                yield [array[i]]+cc\n",
        "\n",
        "######Construimos una función que calcula la solución para un determinado vector y un determinado conjunto de signos operadores            \n",
        "\n",
        "def Operaciones(array,signos,valor):\n",
        "  c=[array[0]]\n",
        "  for i in range(len(signos)):\n",
        "      a=[eval(str(array[0])+signos[i]+str(array[1]))]\n",
        "      c.append(array[1])\n",
        "      array=a+array[2:]\n",
        "  if array[0]==valor:\n",
        "      print(array[0],c,signos)\n",
        "      \n",
        "#####Algoritmo de fuerza bruta: Devuelve TODAS las combinaciones posibles de vectores y signos con un valor resultante entero dado ##########\n",
        "\n",
        "def Fuerza_Bruta(arr,signos,valor):\n",
        "  for array in xcombinations(arr, 5):\n",
        "    for signos in xcombinations(signos, 4):\n",
        "      array=list(array)\n",
        "      Operaciones(array,signos,valor)\n",
        "  \n",
        "#######Prueba Algoritmo####    \n",
        "arr=[1,2,3,4,5,6,7,8,9]\n",
        "signos=['+','-','*','/']\n",
        "valor=-13\n",
        "\n",
        "Fuerza_Bruta(arr,signos,valor)"
      ],
      "execution_count": 0,
      "outputs": []
    },
    {
      "cell_type": "markdown",
      "metadata": {
        "id": "Unon6zApWMWU",
        "colab_type": "text"
      },
      "source": [
        "#6) Algoritmo Genético para Solución del problema"
      ]
    },
    {
      "cell_type": "markdown",
      "metadata": {
        "id": "1jH3zl-_8JYE",
        "colab_type": "text"
      },
      "source": [
        "Se implementa un algoritmo genético de solución. Se genera una población de tuplas de tamaño 5 que se cruzan y se mutan con un porcentaje de mutación predeterminado. Se especifica una función de distancia total que determina la diferencia entre la solución encontrada (el resultado de combinar la tupla con los operadores dados) y el valor que se quiere encontrar con el cálculo. La función de evaluación se establece en relación a dicha distancia. Se elige el metodo de 1-punto de corte para el cruce de padres. Se observa que tan solo con 10 generaciones ya se obtiene una solución. Se podría mejorar el algoritmo haciendo que la mutación también considerara diversas tuplas de operadores que, en este ejercicio, de dejó fijo."
      ]
    },
    {
      "cell_type": "code",
      "metadata": {
        "id": "QgMIw2ONqXMp",
        "colab_type": "code",
        "colab": {}
      },
      "source": [
        "import copy\n",
        "import random \n",
        "\n",
        "#Se genera una solucion aleatoria de tamaño 5 a partir de los \"nodos\" de la lista inicial del 1 al 9\n",
        "def crear_solucion(Nodos): \n",
        "  solucion=random.sample(Nodos,5)\n",
        "  return solucion \n",
        "\n",
        "###Devuelve el valor de una solución en relación a la distancia o diferencia con el valor a obtener#####\n",
        "\n",
        "def distancia_total(solucion,operaciones,valor):\n",
        "  c=[solucion[0]]\n",
        "  for i in range(len(operaciones)):\n",
        "      a=[eval(str(solucion[0])+operaciones[i]+str(solucion[1]))]\n",
        "      c.append(solucion[1])\n",
        "      solucion=a+solucion[2:]\n",
        "  #if array[0]==valor:\n",
        "  return abs(solucion[0]-valor) \n",
        "\n",
        "#Genera una poblacion inicial de soluciones de tamaño N\n",
        "def generar_poblacion(Nodos,N):\n",
        "  return [crear_solucion(Nodos) for _ in range(N) ]\n",
        "\n",
        "\n",
        "#Evalua la población y devuelve el mejor individuo\n",
        "def Evaluar_Poblacion(poblacion,valor):\n",
        "  mejor_solucion = []\n",
        "  mejor_distancia = 10e100\n",
        "  for p in poblacion:\n",
        "    #print(\"solucion:\", p)\n",
        "    distancia_referencia = (distancia_total(p,operaciones,valor))\n",
        "    if distancia_referencia < mejor_distancia:\n",
        "      mejor_solucion = p\n",
        "      mejor_distancia = distancia_referencia\n",
        "  return mejor_solucion, mejor_distancia  \n",
        "\n",
        "\n",
        "#Funcion de mutación. Se eligen dos numeros del vector y se intercambian. \n",
        "# Se hace mutaciones mutacion % de las veces\n",
        "def Mutar(solucion,mutacion):\n",
        "  if random.random() < mutacion:\n",
        "    sel1,sel2 = sorted(random.sample(range(len(solucion)-1),2))\n",
        "    return solucion[:sel1] + [solucion[sel2]] + solucion[sel1+1:sel2] + [solucion[sel1]]  + solucion[sel2+1:] \n",
        "  else:\n",
        "    return solucion[::] \n",
        "  \n",
        "  \n",
        "  #Para el operador de cruce 1-punto los hijos generados no son soluciones(algunos nodos se repiten y otros no están)\n",
        "def Factibilizar(solucion,Nodos):\n",
        "  nodos_desaparecidos = list(set(Nodos) - set(solucion))\n",
        "  for i in range(len(solucion) ):\n",
        "    if solucion[i] in solucion[:i]:\n",
        "      solucion[i] = nodos_desaparecidos.pop(0) \n",
        "  return solucion \n",
        "\n",
        "#Funcion para generar hijos a partir de 2 padres:\n",
        "# Se elige el metodo de 1-punto de corte \n",
        "def Descendencia(padres,mutacion):\n",
        "  pc = random.sample( range(1,len(padres[0])),1)[0]\n",
        "  hijo1 =  Factibilizar(padres[0][:pc] + padres[1][pc:],Nodos) \n",
        "  hijo2 =  Factibilizar(padres[1][:pc] + padres[0][pc:],Nodos)\n",
        "  return [hijo1,hijo2,Mutar(hijo1,mutacion),Mutar(hijo2,mutacion)]\n",
        "\n",
        "#Funcion de cruce. Recibe una poblacion(lista de soluciones) y devuelve la población ampliada con los hijos.\n",
        "def Cruzar(poblacion,mutacion):\n",
        "  poblacion_copia = copy.deepcopy(poblacion)\n",
        "  poblacion_final = copy.deepcopy(poblacion)\n",
        "\n",
        "  while len(poblacion_copia) > 1: \n",
        "    padre1,padre2 = random.sample(poblacion_copia,2)\n",
        "    poblacion_copia.remove(padre1)\n",
        "    poblacion_copia.remove(padre2)\n",
        "    poblacion_final.extend(Descendencia([padre1,padre2],mutacion))\n",
        "  return poblacion_final\n",
        "\n",
        "#Funcion de seleccion de la población. Recibe como parametro una poblacion y \n",
        "# devuelve una poblacion a la que se ha eliminado individuos poco aptos(fitness alto) y para mantener una poblacion estable de N individuos\n",
        "#Se tiene en cuenta el porcentaje elitismo pasado como parametro \n",
        "def Seleccionar(poblacion, N, elitismo):\n",
        "  poblacion_ordenada = sorted([ [distancia_total(solucion,operaciones,valor), solucion] for solucion in poblacion ], key= lambda x:x[0] )\n",
        "\n",
        "  return [x[1] for x in poblacion_ordenada][:int(N*elitismo)]  +   random.sample([x[1] for x in poblacion_ordenada][int(N*elitismo):] , int(N*(1-elitismo))  )\n",
        "\n"
      ],
      "execution_count": 0,
      "outputs": []
    },
    {
      "cell_type": "code",
      "metadata": {
        "id": "Rvk6zDG2JYQ8",
        "colab_type": "code",
        "colab": {}
      },
      "source": [
        "#Funcion principal del algoritmo genetico\n",
        "#######################################################3\n",
        "def algoritmo_genetico(Nodos,signos,valor,N=100,mutacion=.15,elitismo=.1,generaciones=100):\n",
        "  # N = Tamaño de la población\n",
        "  # mutacion = probabilidad de una mutación\n",
        "  # elitismo = porcion de la mejor poblacion a mantener\n",
        "  # generaciones = nº de generaciones a generar para finalizar\n",
        "\n",
        "  #Genera la poblacion inicial\n",
        "  \n",
        "  poblacion = generar_poblacion(Nodos,N)\n",
        "  \n",
        "  #Inicializamos valores para la mejor solucion\n",
        "  (mejor_solucion, mejor_distancia) = Evaluar_Poblacion(poblacion,valor)\n",
        "\n",
        "  \n",
        "  #Condicion de parada\n",
        "  parar = False\n",
        "  n=0\n",
        "  #Inciamos el cliclo de generaciones\n",
        "  while(parar == False) :\n",
        "    \n",
        "    #Cruce de la poblacion(incluye mutación)\n",
        "    poblacion = Cruzar(poblacion, mutacion)\n",
        "  \n",
        "    #Seleccionamos la población\n",
        "    poblacion = Seleccionar(poblacion, N, elitismo)\n",
        "      \n",
        "    #Evaluamos la nueva población\n",
        "    (mejor_solucion, mejor_distancia) = Evaluar_Poblacion(poblacion,valor)\n",
        "  \n",
        "    print(\"Generacion #\", n, \"\\nLa mejor solución es:\" , mejor_solucion, \"\\ncon distancia \" , mejor_distancia,\"para el valor:\",valor)\n",
        " \n",
        "    #Numero de generaciones. Criterio de parada\n",
        "    if n==generaciones:\n",
        "      parar = True\n",
        "    n +=1\n",
        "    \n",
        "  return mejor_solucion"
      ],
      "execution_count": 0,
      "outputs": []
    },
    {
      "cell_type": "code",
      "metadata": {
        "id": "G-eBGD5wKCyv",
        "colab_type": "code",
        "outputId": "32a0433d-1b11-4f8c-b4d7-3c8e0b055cd4",
        "colab": {
          "base_uri": "https://localhost:8080/",
          "height": 588
        }
      },
      "source": [
        "Nodos=[1,2,3,4,5,6,7,8,9]\n",
        "operaciones=['+','-','*','/']\n",
        "valor=-5\n",
        "algoritmo_genetico(Nodos,operaciones,valor,N=100,mutacion=.15,elitismo=.1,generaciones=10)"
      ],
      "execution_count": 10,
      "outputs": [
        {
          "output_type": "stream",
          "text": [
            "Generacion # 0 \n",
            "La mejor solución es: [2, 3, 6, 5, 1] \n",
            "con distancia  0.0 para el valor: -5\n",
            "Generacion # 1 \n",
            "La mejor solución es: [2, 3, 6, 5, 1] \n",
            "con distancia  0.0 para el valor: -5\n",
            "Generacion # 2 \n",
            "La mejor solución es: [2, 3, 6, 5, 1] \n",
            "con distancia  0.0 para el valor: -5\n",
            "Generacion # 3 \n",
            "La mejor solución es: [2, 3, 6, 5, 1] \n",
            "con distancia  0.0 para el valor: -5\n",
            "Generacion # 4 \n",
            "La mejor solución es: [2, 3, 6, 5, 1] \n",
            "con distancia  0.0 para el valor: -5\n",
            "Generacion # 5 \n",
            "La mejor solución es: [2, 3, 6, 5, 1] \n",
            "con distancia  0.0 para el valor: -5\n",
            "Generacion # 6 \n",
            "La mejor solución es: [2, 3, 6, 5, 1] \n",
            "con distancia  0.0 para el valor: -5\n",
            "Generacion # 7 \n",
            "La mejor solución es: [2, 3, 6, 5, 1] \n",
            "con distancia  0.0 para el valor: -5\n",
            "Generacion # 8 \n",
            "La mejor solución es: [2, 3, 6, 5, 1] \n",
            "con distancia  0.0 para el valor: -5\n",
            "Generacion # 9 \n",
            "La mejor solución es: [2, 3, 6, 5, 1] \n",
            "con distancia  0.0 para el valor: -5\n",
            "Generacion # 10 \n",
            "La mejor solución es: [2, 3, 6, 5, 1] \n",
            "con distancia  0.0 para el valor: -5\n"
          ],
          "name": "stdout"
        },
        {
          "output_type": "execute_result",
          "data": {
            "text/plain": [
              "[2, 3, 6, 5, 1]"
            ]
          },
          "metadata": {
            "tags": []
          },
          "execution_count": 10
        }
      ]
    }
  ]
}