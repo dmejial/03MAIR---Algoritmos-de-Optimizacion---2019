{
  "nbformat": 4,
  "nbformat_minor": 0,
  "metadata": {
    "colab": {
      "name": "Diego_Mejia_AG1.ipynb",
      "version": "0.3.2",
      "provenance": [],
      "include_colab_link": true
    },
    "kernelspec": {
      "name": "python3",
      "display_name": "Python 3"
    }
  },
  "cells": [
    {
      "cell_type": "markdown",
      "metadata": {
        "id": "view-in-github",
        "colab_type": "text"
      },
      "source": [
        "<a href=\"https://colab.research.google.com/github/dmejial/03MAIR---Algoritmos-de-Optimizacion---2019/blob/master/%7CAG1/Diego_Mejia_AG1.ipynb\" target=\"_parent\"><img src=\"https://colab.research.google.com/assets/colab-badge.svg\" alt=\"Open In Colab\"/></a>"
      ]
    },
    {
      "cell_type": "code",
      "metadata": {
        "id": "arzS8BZQX-1Q",
        "colab_type": "code",
        "colab": {}
      },
      "source": [
        ""
      ],
      "execution_count": 0,
      "outputs": []
    },
    {
      "cell_type": "markdown",
      "metadata": {
        "id": "G75xib86YbLT",
        "colab_type": "text"
      },
      "source": [
        "Actividad Guiada 1 : AG1\n",
        "Diego Mejía\n",
        "https://colab.research.google.com/drive/1U3d25m95NgWADQYhX0sJzURgcsiVOzbV\n",
        "https://github.com/dmejial/03MAIR---Algoritmos-de-Optimizacion---2019"
      ]
    },
    {
      "cell_type": "code",
      "metadata": {
        "id": "9QTF_G5TYyJV",
        "colab_type": "code",
        "colab": {}
      },
      "source": [
        "from functools import wraps\n",
        "from time import time\n",
        "import numpy as np\n",
        "\n",
        "def calcular_tiempo(f):\n",
        "    @wraps(f)\n",
        "    def cronometro(*args, **kwargs):\n",
        "        t_inicial = time()\n",
        "        salida = f(*args, **kwargs)\n",
        "        t_final = time()\n",
        "        print('Tiempo transcurrido (en segundos): {}'.format(t_final - t_inicial))\n",
        "        return salida\n",
        "    return cronometro\n",
        "import random"
      ],
      "execution_count": 0,
      "outputs": []
    },
    {
      "cell_type": "code",
      "metadata": {
        "id": "EJMR_VlWalkc",
        "colab_type": "code",
        "colab": {
          "base_uri": "https://localhost:8080/",
          "height": 51
        },
        "outputId": "ffd28552-835a-42e4-bda8-3073b35ccc40"
      },
      "source": [
        "#Algoritmo divide y vencerás quick sort\n",
        "\n",
        "A = [9187, 244, 4054, 9222, 8373, 4993, 5265, 5470, 4519, 7182, 2035, 3506, 4337, 7580, 2554, 2824, 8357, 4447, 7379]\n",
        "#A=list(map(lambda x:random.randrange(1,1000),range(1,200)))\n",
        "\n",
        "def quick_sort(A):\n",
        "  if len(A)<=1:\n",
        "    return A\n",
        "  if len(A)==2:\n",
        "    return [min(A),max(A)]\n",
        "  \n",
        "  pivote = np.median(A)#(A[0] + A[1] + A[2])/3\n",
        "  \n",
        "  IZQ=[]\n",
        "  DER=[]\n",
        "  for n in A:\n",
        "    if n<pivote:\n",
        "      IZQ.append(n)\n",
        "    else:\n",
        "      DER.append(n)\n",
        "  \n",
        "  return quick_sort(IZQ)+quick_sort(DER)\n",
        "\n",
        "@calcular_tiempo\n",
        "def ordenar(A):\n",
        "  print(quick_sort(A))\n",
        "  \n",
        "ordenar(A)  "
      ],
      "execution_count": 19,
      "outputs": [
        {
          "output_type": "stream",
          "text": [
            "[244, 2035, 2554, 2824, 3506, 4054, 4337, 4447, 4519, 4993, 5265, 5470, 7182, 7379, 7580, 8357, 8373, 9187, 9222]\n",
            "Tiempo transcurrido (en segundos): 0.002081632614135742\n"
          ],
          "name": "stdout"
        }
      ]
    },
    {
      "cell_type": "code",
      "metadata": {
        "id": "VRIQ2yLpAwRh",
        "colab_type": "code",
        "colab": {
          "base_uri": "https://localhost:8080/",
          "height": 51
        },
        "outputId": "52a6b505-d8d5-4e42-b712-4bd58ec11cb3"
      },
      "source": [
        "#Algoritmo voraz para la devolución del cambio\n",
        "SISTEMA= [25, 10, 5, 1]\n",
        "\n",
        "@calcular_tiempo\n",
        "def cambio_monedas(CANTIDAD,SISTEMA):\n",
        "  SOLUCION = [0 for i in range(len(SISTEMA)) ]\n",
        "  VALOR_ACUMULADO=0\n",
        "  \n",
        "  for i in range(len(SISTEMA)):\n",
        "    MONEDAS=int((CANTIDAD-VALOR_ACUMULADO)/SISTEMA[i])\n",
        "    SOLUCION[i]=MONEDAS\n",
        "    VALOR_ACUMULADO=VALOR_ACUMULADO+MONEDAS*SISTEMA[i]\n",
        "    if VALOR_ACUMULADO==CANTIDAD:\n",
        "      return SOLUCION\n",
        "    \n",
        "print(cambio_monedas(23, SISTEMA))"
      ],
      "execution_count": 21,
      "outputs": [
        {
          "output_type": "stream",
          "text": [
            "Tiempo transcurrido (en segundos): 1.0013580322265625e-05\n",
            "[0, 2, 0, 3]\n"
          ],
          "name": "stdout"
        }
      ]
    },
    {
      "cell_type": "code",
      "metadata": {
        "id": "jN8oavhRH-Ae",
        "colab_type": "code",
        "colab": {
          "base_uri": "https://localhost:8080/",
          "height": 51
        },
        "outputId": "9d052fea-f548-4073-804a-1cf00339a731"
      },
      "source": [
        "#Algoritmo con vuelta atrás problema nueve reinas\n",
        "\n",
        "def es_prometedora(solucion,etapa):\n",
        "  for i in range(etapa+1):\n",
        "    if solucion.count(solucion[i])>1:\n",
        "      return False\n",
        "    for j in range(i+1,etapa+1):\n",
        "      if abs(i-j)==abs(solucion[i-solucion[j]]):\n",
        "        return False\n",
        "  return True\n",
        "\n",
        "def reinas(N,solucion=[],etapa=0):\n",
        "  if len(solucion) == 0:\n",
        "     solucion=[0 for i in range(N)]\n",
        "      \n",
        "  for i in range(1, N+1):\n",
        "    solucion[etapa]=i\n",
        "    \n",
        "    if es_prometedora(solucion,etapa):\n",
        "      if etapa==N-1:\n",
        "        print('La solucion es',solucion)\n",
        "        \n",
        "      else:\n",
        "        reinas(N,solucion,etapa+1)\n",
        "    else:\n",
        "      None\n",
        "      \n",
        "reinas(4)\n",
        "    \n",
        "\n"
      ],
      "execution_count": 28,
      "outputs": [
        {
          "output_type": "stream",
          "text": [
            "La solucion es [1, 2, 4, 3]\n",
            "La solucion es [2, 1, 3, 4]\n"
          ],
          "name": "stdout"
        }
      ]
    }
  ]
}