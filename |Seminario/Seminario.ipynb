{
  "nbformat": 4,
  "nbformat_minor": 0,
  "metadata": {
    "colab": {
      "name": "Seminario.ipynb",
      "version": "0.3.2",
      "provenance": [],
      "include_colab_link": true
    },
    "kernelspec": {
      "name": "python3",
      "display_name": "Python 3"
    }
  },
  "cells": [
    {
      "cell_type": "markdown",
      "metadata": {
        "id": "view-in-github",
        "colab_type": "text"
      },
      "source": [
        "<a href=\"https://colab.research.google.com/github/dmejial/03MAIR---Algoritmos-de-Optimizacion---2019/blob/master/%7CSeminario/Seminario.ipynb\" target=\"_parent\"><img src=\"https://colab.research.google.com/assets/colab-badge.svg\" alt=\"Open In Colab\"/></a>"
      ]
    },
    {
      "cell_type": "markdown",
      "metadata": {
        "id": "ZdZnwFqio-6A",
        "colab_type": "text"
      },
      "source": [
        "Solución Problema Seminario"
      ]
    },
    {
      "cell_type": "code",
      "metadata": {
        "id": "f_uRp1f5wfJv",
        "colab_type": "code",
        "colab": {}
      },
      "source": [
        "\n",
        "def perm(n, i):\n",
        "    if i == len(n) - 1:\n",
        "        print(n)\n",
        "    else:\n",
        "        for j in range(i, len(n)):\n",
        "            n[i], n[j] = n[j], n[i]\n",
        "            perm(n, i + 1)\n",
        "            n[i], n[j] = n[j], n[i] # swap back, for the next loop\n",
        "        \n",
        "perm([1,2,3,4], 0)\n",
        " \n"
      ],
      "execution_count": 0,
      "outputs": []
    },
    {
      "cell_type": "code",
      "metadata": {
        "id": "gVsiUJXDocu0",
        "colab_type": "code",
        "colab": {}
      },
      "source": [
        "\n",
        "from itertools import combinations "
      ],
      "execution_count": 0,
      "outputs": []
    },
    {
      "cell_type": "code",
      "metadata": {
        "id": "t8od5Y7qw5mL",
        "colab_type": "code",
        "colab": {}
      },
      "source": [
        "arr=[1,2,3,4,5,6,7,8,9]\n",
        "signos=['+','-','*','/']\n",
        "r=5\n",
        "\n",
        "def Operaciones(array,signos):\n",
        "  c=[array[0]]\n",
        "  for i in range(len(signos)):\n",
        "      a=[eval(str(array[0])+signos[i]+str(array[1]))]\n",
        "      c.append(array[1])\n",
        "      array=a+array[2:]\n",
        "  if array[0]==0:\n",
        "      print(array[0],c)\n",
        "\n",
        "for array in combinations(arr, r):\n",
        "  array=list(array)\n",
        "  Operaciones(array,signos)        "
      ],
      "execution_count": 0,
      "outputs": []
    }
  ]
}