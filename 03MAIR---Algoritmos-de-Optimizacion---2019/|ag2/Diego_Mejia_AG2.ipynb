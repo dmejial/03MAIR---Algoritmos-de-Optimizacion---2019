{
  "nbformat": 4,
  "nbformat_minor": 0,
  "metadata": {
    "colab": {
      "name": "AG2.ipynb",
      "version": "0.3.2",
      "provenance": [],
      "collapsed_sections": [],
      "include_colab_link": true
    },
    "kernelspec": {
      "name": "python3",
      "display_name": "Python 3"
    }
  },
  "cells": [
    {
      "cell_type": "markdown",
      "metadata": {
        "id": "view-in-github",
        "colab_type": "text"
      },
      "source": [
        "<a href=\"https://colab.research.google.com/github/dmejial/03MAIR---Algoritmos-de-Optimizacion---2019/blob/master/03MAIR---Algoritmos-de-Optimizacion---2019/%7Cag2/Diego_Mejia_AG2.ipynb\" target=\"_parent\"><img src=\"https://colab.research.google.com/assets/colab-badge.svg\" alt=\"Open In Colab\"/></a>"
      ]
    },
    {
      "cell_type": "markdown",
      "metadata": {
        "id": "Ecrp4xSK2bM2",
        "colab_type": "text"
      },
      "source": [
        "Nombre:Diego Mejía\n",
        "\n",
        "URL:https://github.com/dmejial/03MAIR---Algoritmos-de-Optimizacion---2019/tree/master/%7Cag2"
      ]
    },
    {
      "cell_type": "markdown",
      "metadata": {
        "id": "AvCfOqdb2_DH",
        "colab_type": "text"
      },
      "source": [
        "Viaje por el río. Programación Dinámica"
      ]
    },
    {
      "cell_type": "code",
      "metadata": {
        "id": "-weaVuxXtgRc",
        "colab_type": "code",
        "colab": {}
      },
      "source": [
        "TARIFAS=[\n",
        "[0,5,4,3,999,999,999],\n",
        "[999,0,999,2,3,999,11],\n",
        "[999,999,0,1,999,4,10],\n",
        "[999,999,999,0,5,6,9],\n",
        "[999,999,999,999,0,999,4],\n",
        "[999,999,999,999,999,0,3],\n",
        "[999,999,999,999,999,999,0]\n",
        "]"
      ],
      "execution_count": 0,
      "outputs": []
    },
    {
      "cell_type": "code",
      "metadata": {
        "id": "V79mL9SfjzzZ",
        "colab_type": "code",
        "colab": {}
      },
      "source": [
        "def Precios(TARIFAS):\n",
        "  \n",
        "  N=len(TARIFAS[0])\n",
        "  \n",
        "  \n",
        "  PRECIOS=[[9999]*N for i in [9999]*N]\n",
        "  RUTA=[[\"\"]*N for i in [\"\"]*N]\n",
        "  \n",
        "  for i in range(0,N-1):\n",
        "    for j in range(i+1,N):\n",
        "      MIN=TARIFAS[i][j]\n",
        "      RUTA[i][j]=i\n",
        "      \n",
        "      for k in range(i,j):\n",
        "        if PRECIOS[i][k]+TARIFAS[k][j]<MIN:\n",
        "          MIN=min(MIN,PRECIOS[i][k]+TARIFAS[k][j])\n",
        "          RUTA[i][j]=k   \n",
        "      PRECIOS[i][j]=MIN\n",
        "      \n",
        "  return PRECIOS,RUTA"
      ],
      "execution_count": 0,
      "outputs": []
    },
    {
      "cell_type": "code",
      "metadata": {
        "id": "IgpN90CGvdjD",
        "colab_type": "code",
        "outputId": "130d36f3-3fab-435c-9a15-57ee2acec9f8",
        "colab": {
          "base_uri": "https://localhost:8080/",
          "height": 88
        }
      },
      "source": [
        "def Precios(TARIFAS):\n",
        "  \n",
        "  N=len(TARIFAS[0])\n",
        "  \n",
        "  \n",
        "  PRECIOS=[[9999]*N for i in [9999]*N]\n",
        "  RUTA=[[\"\"]*N for i in [\"\"]*N]\n",
        "  \n",
        "  for i in range(0,N-1):\n",
        "    for j in range(i+1,N):\n",
        "      MIN=TARIFAS[i][j]\n",
        "      RUTA[i][j]=i\n",
        "      \n",
        "      for k in range(i,j):\n",
        "        if PRECIOS[i][k]+TARIFAS[k][j]<MIN:\n",
        "          MIN=min(MIN,PRECIOS[i][k]+TARIFAS[k][j])\n",
        "          RUTA[i][j]=k   \n",
        "      PRECIOS[i][j]=MIN\n",
        "      \n",
        "  return PRECIOS,RUTA\n",
        "\n",
        "PRECIOS,RUTA=Precios(TARIFAS)\n",
        "\n",
        "print(PRECIOS)\n",
        "print(RUTA)\n",
        "    \n",
        "  \n",
        "def calcular_ruta(RUTA,desde,hasta):\n",
        "  if desde == hasta:\n",
        "    return desde\n",
        "  else:\n",
        "    return str(calcular_ruta(RUTA,desde, RUTA[desde][hasta]))+'-'+str(RUTA[desde][hasta])\n",
        "  \n",
        "calcular_ruta(RUTA,0,6)  "
      ],
      "execution_count": 0,
      "outputs": [
        {
          "output_type": "stream",
          "text": [
            "[[9999, 5, 4, 3, 8, 8, 11], [9999, 9999, 999, 2, 3, 8, 7], [9999, 9999, 9999, 1, 6, 4, 7], [9999, 9999, 9999, 9999, 5, 6, 9], [9999, 9999, 9999, 9999, 9999, 999, 4], [9999, 9999, 9999, 9999, 9999, 9999, 3], [9999, 9999, 9999, 9999, 9999, 9999, 9999]]\n",
            "[['', 0, 0, 0, 1, 2, 5], ['', '', 1, 1, 1, 3, 4], ['', '', '', 2, 3, 2, 5], ['', '', '', '', 3, 3, 3], ['', '', '', '', '', 4, 4], ['', '', '', '', '', '', 5], ['', '', '', '', '', '', '']]\n"
          ],
          "name": "stdout"
        },
        {
          "output_type": "execute_result",
          "data": {
            "text/plain": [
              "'0-0-2-5'"
            ]
          },
          "metadata": {
            "tags": []
          },
          "execution_count": 30
        }
      ]
    },
    {
      "cell_type": "markdown",
      "metadata": {
        "id": "_kWTWNOg2t07",
        "colab_type": "text"
      },
      "source": [
        "Asignación de Tareas. Ramificación y Poda"
      ]
    },
    {
      "cell_type": "code",
      "metadata": {
        "id": "ZyS3CglE2wLd",
        "colab_type": "code",
        "colab": {}
      },
      "source": [
        "import itertools"
      ],
      "execution_count": 0,
      "outputs": []
    },
    {
      "cell_type": "code",
      "metadata": {
        "id": "HalCAJwE4Rze",
        "colab_type": "code",
        "colab": {}
      },
      "source": [
        "COSTES=[[11,12,18,40],\n",
        "        [14,15,13,22],\n",
        "        [11,17,19,23],\n",
        "        [17,14,20,28]]"
      ],
      "execution_count": 0,
      "outputs": []
    },
    {
      "cell_type": "code",
      "metadata": {
        "id": "ob1aLWfe6Znc",
        "colab_type": "code",
        "colab": {}
      },
      "source": [
        "def valor(S,COSTES):\n",
        "  VALOR=0\n",
        "  for i in range(len(S)):\n",
        "    VALOR+=COSTES[i][S[i]]#[S[i]][i]\n",
        "    \n",
        "  return VALOR\n",
        "\n"
      ],
      "execution_count": 0,
      "outputs": []
    },
    {
      "cell_type": "code",
      "metadata": {
        "id": "6Znc7MlY7gQ1",
        "colab_type": "code",
        "outputId": "29af5122-c79b-4e7a-e78a-be4142f424e3",
        "colab": {
          "base_uri": "https://localhost:8080/",
          "height": 35
        }
      },
      "source": [
        "\n",
        "\n",
        "def fuerza_bruta(COSTES):\n",
        "  mejor_valor=10e10\n",
        "  mejor_solucion=''\n",
        "  \n",
        "  for S in list(itertools.permutations(range(len(COSTES)))):\n",
        "    valor_tmp=valor(S,COSTES)\n",
        "    if valor_tmp<mejor_valor:\n",
        "      mejor_solucion=S\n",
        "      mejor_valor=valor_tmp\n",
        "  print(\"La mejor solucion es :\",mejor_solucion)\n",
        "  \n",
        "  \n",
        "fuerza_bruta(COSTES) "
      ],
      "execution_count": 0,
      "outputs": [
        {
          "output_type": "stream",
          "text": [
            "La mejor solucion es : (0, 2, 3, 1)\n"
          ],
          "name": "stdout"
        }
      ]
    },
    {
      "cell_type": "code",
      "metadata": {
        "id": "To1r9gucosdp",
        "colab_type": "code",
        "outputId": "03adcab5-14d1-42bf-cb8d-e5db4db63956",
        "colab": {
          "base_uri": "https://localhost:8080/",
          "height": 34
        }
      },
      "source": [
        "def CI(S,COSTES):\n",
        "  VALOR=0\n",
        "  for i in range(len(S)):\n",
        "    VALOR+=COSTES[i][S[i]]\n",
        "    \n",
        "  for i in range(len(COSTES)):\n",
        "    if i not in S:\n",
        "      VALOR+=min([COSTES[j][i] for j in range(len(S),len(COSTES))])\n",
        "  return VALOR\n",
        "\n",
        "CI((0,2),COSTES)"
      ],
      "execution_count": 0,
      "outputs": [
        {
          "output_type": "execute_result",
          "data": {
            "text/plain": [
              "61"
            ]
          },
          "metadata": {
            "tags": []
          },
          "execution_count": 23
        }
      ]
    },
    {
      "cell_type": "code",
      "metadata": {
        "id": "jtV9WBeX-B6s",
        "colab_type": "code",
        "outputId": "23f8773a-b034-4841-9360-23a0cdd934f9",
        "colab": {
          "base_uri": "https://localhost:8080/",
          "height": 34
        }
      },
      "source": [
        "def crear_hijos(NODO,N):\n",
        "  HIJOS=[]\n",
        "  for i in range(N):\n",
        "    if i not in NODO:\n",
        "      HIJOS.append({'s':NODO+(i,)})\n",
        "      \n",
        "  return HIJOS\n",
        "  \n",
        "crear_hijos((0,2),4) \n",
        "  "
      ],
      "execution_count": 0,
      "outputs": [
        {
          "output_type": "execute_result",
          "data": {
            "text/plain": [
              "[{'s': (0, 2, 1)}, {'s': (0, 2, 3)}]"
            ]
          },
          "metadata": {
            "tags": []
          },
          "execution_count": 24
        }
      ]
    },
    {
      "cell_type": "code",
      "metadata": {
        "id": "qwRNEZVmS1TG",
        "colab_type": "code",
        "outputId": "830bc2a1-b302-4b77-d8c9-5f6668c284f9",
        "colab": {
          "base_uri": "https://localhost:8080/",
          "height": 34
        }
      },
      "source": [
        "  DIMENSION=len(COSTES)\n",
        "  MEJOR_SOLUCION = tuple(i for i in range(DIMENSION) )\n",
        "  MEJOR_SOLUCION \n",
        "  valor(MEJOR_SOLUCION,COSTES)\n",
        "  NODOS=[]\n",
        "  NODOS.append({'s':0,'ci': CI((0,2),COSTES)})\n",
        "  \n",
        "  nodo_prometedor=min(NODOS,key=lambda x:x['ci'])#[0]['s']\n",
        "  nodo_prometedor\n",
        "    "
      ],
      "execution_count": 0,
      "outputs": [
        {
          "output_type": "execute_result",
          "data": {
            "text/plain": [
              "{'ci': 61, 's': 0}"
            ]
          },
          "metadata": {
            "tags": []
          },
          "execution_count": 28
        }
      ]
    },
    {
      "cell_type": "code",
      "metadata": {
        "id": "thTpt-dbC6iW",
        "colab_type": "code",
        "outputId": "c4ff9ad4-4d23-4e99-af64-d554801c0ca3",
        "colab": {
          "base_uri": "https://localhost:8080/",
          "height": 272
        }
      },
      "source": [
        "def ramificacion_y_poda(COSTES):\n",
        "  DIMENSION=len(COSTES)\n",
        "  MEJOR_SOLUCION = tuple(i for i in range(DIMENSION) )\n",
        "  \n",
        "  CotaSup = valor(MEJOR_SOLUCION,COSTES)\n",
        "  \n",
        "  NODOS=[]\n",
        "  NODOS.append({'s':(),'ci': CI((),COSTES)})\n",
        "  \n",
        "   \n",
        "  iteracion=0\n",
        "  \n",
        "  while (len(NODOS) > 0):\n",
        "    iteracion+=1\n",
        "    #print('\\n#',iteracion)\n",
        "    nodo_prometedor=min(NODOS,key=lambda x:x['ci'])\n",
        "    \n",
        "    \n",
        "    #Hijos\n",
        "    HIJOS=[ {'s':x['s'],'ci': CI(x['s'],COSTES)} for x in crear_hijos(nodo_prometedor['s'],DIMENSION) ]\n",
        "    \n",
        "    NODO_FINAL=[x  for x in HIJOS if len(x['s']) == DIMENSION]\n",
        "    if len(NODO_FINAL)>0:\n",
        "      if NODO_FINAL[0]['ci']< CotaSup:\n",
        "        CotaSup=NODO_FINAL[0]['ci']\n",
        "        MEJOR_SOLUCION=NODO_FINAL[0]\n",
        "    \n",
        "    #Poda\n",
        "    HIJOS=[ x for x in HIJOS if x['ci']<CotaSup]\n",
        "    print(nodo_prometedor)\n",
        "    #Eliminamos el nodo expandido\n",
        "    NODOS=[ x for x in NODOS if x['s'] != nodo_prometedor['s'] ]\n",
        "    #Añadimos los hijos\n",
        "    NODOS.extend(HIJOS)\n",
        "    \n",
        "  print(\"La mejor solucion es:\", MEJOR_SOLUCION)\n",
        "  \n",
        "ramificacion_y_poda(COSTES)"
      ],
      "execution_count": 48,
      "outputs": [
        {
          "output_type": "stream",
          "text": [
            "{'s': (), 'ci': 58}\n",
            "{'s': (1,), 'ci': 58}\n",
            "{'s': (1, 2), 'ci': 59}\n",
            "{'s': (0,), 'ci': 60}\n",
            "{'s': (0, 2), 'ci': 61}\n",
            "{'s': (0, 2, 3), 'ci': 61}\n",
            "{'s': (1, 3), 'ci': 64}\n",
            "{'s': (1, 2, 0), 'ci': 64}\n",
            "{'s': (2,), 'ci': 65}\n",
            "{'s': (1, 2, 3), 'ci': 65}\n",
            "{'s': (0, 3), 'ci': 66}\n",
            "{'s': (1, 0), 'ci': 68}\n",
            "{'s': (0, 1), 'ci': 68}\n",
            "{'s': (0, 2, 1), 'ci': 69}\n",
            "La mejor solucion es: {'s': (0, 2, 3, 1), 'ci': 61}\n"
          ],
          "name": "stdout"
        }
      ]
    },
    {
      "cell_type": "code",
      "metadata": {
        "id": "3qgku7NWOAMC",
        "colab_type": "code",
        "colab": {}
      },
      "source": [
        ""
      ],
      "execution_count": 0,
      "outputs": []
    }
  ]
}