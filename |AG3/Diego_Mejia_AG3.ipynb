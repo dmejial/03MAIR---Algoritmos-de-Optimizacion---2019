{
  "nbformat": 4,
  "nbformat_minor": 0,
  "metadata": {
    "colab": {
      "name": "AG3.ipynb",
      "version": "0.3.2",
      "provenance": [],
      "collapsed_sections": [],
      "include_colab_link": true
    },
    "kernelspec": {
      "name": "python3",
      "display_name": "Python 3"
    }
  },
  "cells": [
    {
      "cell_type": "markdown",
      "metadata": {
        "id": "view-in-github",
        "colab_type": "text"
      },
      "source": [
        "<a href=\"https://colab.research.google.com/github/dmejial/03MAIR---Algoritmos-de-Optimizacion---2019/blob/master/%7CAG3/Diego_Mejia_AG3.ipynb\" target=\"_parent\"><img src=\"https://colab.research.google.com/assets/colab-badge.svg\" alt=\"Open In Colab\"/></a>"
      ]
    },
    {
      "cell_type": "markdown",
      "metadata": {
        "id": "8O9fpz2lTthb",
        "colab_type": "text"
      },
      "source": [
        "AG3 -Actividad Guiada 3    \n",
        "Diego Mejía    \n",
        "https://github.com/dmejial/03MAIR---Algoritmos-de-Optimizacion---2019/tree/master/%7CAG3"
      ]
    },
    {
      "cell_type": "code",
      "metadata": {
        "id": "cHYSUx8vT6sq",
        "colab_type": "code",
        "colab": {}
      },
      "source": [
        "!pip install request"
      ],
      "execution_count": 0,
      "outputs": []
    },
    {
      "cell_type": "code",
      "metadata": {
        "id": "96bx0GEdXF-x",
        "colab_type": "code",
        "colab": {}
      },
      "source": [
        "import urllib.request\n",
        "file='swiss42.tsp'\n",
        "urllib.request.urlretrieve('http://elib.zib.de/pub/mp-testdata/tsp/tsplib/tsp/swiss42.tsp', file)"
      ],
      "execution_count": 0,
      "outputs": []
    },
    {
      "cell_type": "code",
      "metadata": {
        "id": "kzeHtAX4ZD5s",
        "colab_type": "code",
        "colab": {}
      },
      "source": [
        "!pip install tsplib95\n"
      ],
      "execution_count": 0,
      "outputs": []
    },
    {
      "cell_type": "code",
      "metadata": {
        "id": "HZGqGPzJZlTy",
        "colab_type": "code",
        "colab": {}
      },
      "source": [
        "import tsplib95\n",
        "import random\n",
        "import math "
      ],
      "execution_count": 0,
      "outputs": []
    },
    {
      "cell_type": "code",
      "metadata": {
        "id": "iGopwURQZwDG",
        "colab_type": "code",
        "outputId": "7b534ab5-1e2a-4573-aaea-9e7a2562af56",
        "colab": {
          "base_uri": "https://localhost:8080/",
          "height": 34
        }
      },
      "source": [
        "problem=tsplib95.load_problem(file)\n",
        "\n",
        "Nodos=list(problem.get_nodes())\n",
        "\n",
        "list(problem.get_nodes())\n",
        "list(problem.get_edges())\n",
        "\n",
        "problem.wfunc(0,1)"
      ],
      "execution_count": 0,
      "outputs": [
        {
          "output_type": "execute_result",
          "data": {
            "text/plain": [
              "15"
            ]
          },
          "metadata": {
            "tags": []
          },
          "execution_count": 5
        }
      ]
    },
    {
      "cell_type": "code",
      "metadata": {
        "id": "JuaHPlgjbEe8",
        "colab_type": "code",
        "colab": {}
      },
      "source": [
        "def distancia(a,b,problem):\n",
        "  return problem.wfunc(a,b)\n",
        "\n",
        "def crear_solucion(Nodos):\n",
        "  solucion=[0]\n",
        "  for _ in range(len(Nodos)-1):\n",
        "    solucion = solucion + [random.choice(list(set(Nodos) - set({0}) - set(solucion)))]\n",
        "  return solucion\n",
        "\n",
        "def distancia_total(solucion,problem):\n",
        "  distancia_ret=0\n",
        "  for i in range(len(solucion)-1):\n",
        "    distancia_ret+=distancia(solucion[i],solucion[i+1],problem)\n",
        "  return distancia_ret+distancia(solucion[len(solucion)-1],solucion[0],problem)\n",
        "\n",
        " \n",
        "solucion_prueba=crear_solucion(Nodos)\n",
        "\n",
        "print(distancia_total(solucion_prueba,problem),solucion_prueba)"
      ],
      "execution_count": 0,
      "outputs": []
    },
    {
      "cell_type": "markdown",
      "metadata": {
        "id": "Zxti-mOtFn9C",
        "colab_type": "text"
      },
      "source": [
        "Busqueda Aleatoria"
      ]
    },
    {
      "cell_type": "code",
      "metadata": {
        "id": "oZGA84kQgBUu",
        "colab_type": "code",
        "colab": {}
      },
      "source": [
        "def busqueda_aleatoria(problem,N):\n",
        "  Nodos=list(problem.get_nodes())\n",
        "  \n",
        "  mejor_solucion=[]\n",
        "  mejor_distancia=10e10\n",
        "  \n",
        "  for i in range(N):\n",
        "    solucion=crear_solucion(Nodos)\n",
        "    distancia_solucion=distancia_total(solucion,problem)\n",
        "    \n",
        "    if distancia_solucion <mejor_distancia:\n",
        "      mejor_solucion=solucion\n",
        "      mejor_distancia=distancia_solucion\n",
        "      \n",
        "  #print(mejor_distancia,mejor_solucion)    \n",
        "  #return mejor_solucion\n",
        "      \n",
        "  print(\"La mejor solución encontrada es \", end=\"\")\n",
        "  print(solucion)\n",
        "  print(\"con una distancia total de \",end=\"\")\n",
        "  print(mejor_distancia)\n",
        "  return mejor_solucion\n",
        "\n",
        "\n",
        "busqueda_aleatoria(problem,100)"
      ],
      "execution_count": 0,
      "outputs": []
    },
    {
      "cell_type": "markdown",
      "metadata": {
        "id": "D1Ga4i5gHB23",
        "colab_type": "text"
      },
      "source": [
        "Busqueda Local"
      ]
    },
    {
      "cell_type": "code",
      "metadata": {
        "id": "HlYGh-CnqqUl",
        "colab_type": "code",
        "colab": {}
      },
      "source": [
        "def generar_vecina(solucion,problem):\n",
        "  mejor_solucion=[]\n",
        "  mejor_distancia=10e10\n",
        "  for i in range(1,len(solucion)-1):\n",
        "    for j in range(i+1,len(solucion)):\n",
        "      vecina = solucion[:i] + [solucion[j]] + solucion[i+1:j] + [solucion[i]] + solucion[j+1:]\n",
        "      distancia_vecina=distancia_total(vecina,problem)\n",
        "      if distancia_vecina < mejor_distancia:\n",
        "        mejor_solucion=vecina\n",
        "        mejor_distancia=distancia_vecina\n",
        "  return mejor_solucion\n",
        "\n",
        "solucion_prueba=crear_solucion(Nodos)\n",
        "generar_vecina(solucion_prueba,problem)"
      ],
      "execution_count": 0,
      "outputs": []
    },
    {
      "cell_type": "code",
      "metadata": {
        "id": "VPq7fCtVs9Yr",
        "colab_type": "code",
        "colab": {}
      },
      "source": [
        "def busqueda_local(problem,N):\n",
        "  mejor_solucion=[]\n",
        "  mejor_distancia=10e10\n",
        "  \n",
        "  Nodos=list(problem.get_nodes())\n",
        "  \n",
        "  solucion_referencia=crear_solucion(Nodos)\n",
        "  \n",
        "  for i in range(N):\n",
        "    vecina=generar_vecina(solucion_referencia,problem)\n",
        "    distancia_vecina=distancia_total(vecina,problem)\n",
        "    if distancia_vecina < mejor_distancia:\n",
        "        mejor_solucion=vecina\n",
        "        mejor_distancia=distancia_vecina\n",
        "        \n",
        "    solucion_referencia=mejor_solucion\n",
        "  print(distancia_total(mejor_solucion,problem),mejor_solucion)\n",
        "  return mejor_solucion\n",
        "    \n",
        "busqueda_local(problem,100)"
      ],
      "execution_count": 0,
      "outputs": []
    },
    {
      "cell_type": "markdown",
      "metadata": {
        "id": "upyu2-A1Fd13",
        "colab_type": "text"
      },
      "source": [
        "Recocido Simulado"
      ]
    },
    {
      "cell_type": "code",
      "metadata": {
        "id": "92HdIX5Sw4xq",
        "colab_type": "code",
        "colab": {}
      },
      "source": [
        "def probabilidad(T,d):\n",
        "  r=random.random()\n",
        "  \n",
        "  if r <math.exp(-1*d/T)  :\n",
        "    return True\n",
        "  else:\n",
        "    return False\n",
        "  \n",
        "def bajar_temperatura(T):\n",
        "  return T*0.999"
      ],
      "execution_count": 0,
      "outputs": []
    },
    {
      "cell_type": "code",
      "metadata": {
        "id": "WT8-k0NEOp3o",
        "colab_type": "code",
        "colab": {}
      },
      "source": [
        "def genera_vecina_aleatorio(solucion):\n",
        "  i,j=sorted(random.sample(range(1,len(solucion)),2))\n",
        "  return solucion[:i]+[solucion[j]]+solucion[i+1:j]+ [solucion[i]]+solucion[j+1:]"
      ],
      "execution_count": 0,
      "outputs": []
    },
    {
      "cell_type": "code",
      "metadata": {
        "id": "CDelt5Pkzl1H",
        "colab_type": "code",
        "colab": {}
      },
      "source": [
        "def recocido_simulado(problem,TEMPERATURA):\n",
        "  solucion_referencia=crear_solucion(Nodos)\n",
        "  \n",
        "  distancia_referencia=distancia_total(solucion_referencia,problem)\n",
        "  \n",
        "  mejor_solucion=[]\n",
        "  mejor_distancia=10e10\n",
        "  \n",
        "  while TEMPERATURA > .01:\n",
        "    vecina=genera_vecina_aleatorio(solucion_referencia)\n",
        "    distancia_vecina=distancia_total(vecina,problem)\n",
        "    \n",
        "    if distancia_vecina < mejor_distancia:\n",
        "      mejor_solucion=vecina\n",
        "      mejor_distancia=distancia_vecina\n",
        "      \n",
        "    if distancia_vecina < distancia_referencia or probabilidad(TEMPERATURA,abs(distancia_referencia-distancia_vecina)):\n",
        "      solucion_referencia=vecina\n",
        "      distancia_referencia=distancia_vecina\n",
        "      \n",
        "    TEMPERATURA=bajar_temperatura(TEMPERATURA)\n",
        "    \n",
        "    print(mejor_distancia,mejor_solucion)\n",
        "    \n",
        "    return mejor_solucion\n",
        "    \n",
        "recocido_simulado(problem,1000)\n",
        "      \n",
        "      "
      ],
      "execution_count": 0,
      "outputs": []
    },
    {
      "cell_type": "markdown",
      "metadata": {
        "id": "XuVax6ZLF61c",
        "colab_type": "text"
      },
      "source": [
        "Colonia de Hormigas"
      ]
    },
    {
      "cell_type": "code",
      "metadata": {
        "id": "JIZ6DBPjEA3f",
        "colab_type": "code",
        "colab": {}
      },
      "source": [
        "def Add_Nodo(problem,H,T):\n",
        "  Nodos=list(problem.get_nodes())\n",
        "  return random.choice( list(set(range(1,len(Nodos)))-set(H)))\n",
        "\n",
        "def Incrementa_Feromona(problem,T,H):\n",
        "  for i in range(len(H)-1):\n",
        "    T[H[i]][H[i+1]] += 1000/distancia_total(H,problem)\n",
        "  return T\n",
        "\n",
        "def Evaporar_Feromonas(T):\n",
        "  T=[[max(T[i][j]-0,3,.1)  for i in range(len(Nodos)) ] for j in range(len(Nodos))]\n",
        "  return T\n"
      ],
      "execution_count": 0,
      "outputs": []
    },
    {
      "cell_type": "code",
      "metadata": {
        "id": "lEf9nugqB22E",
        "colab_type": "code",
        "colab": {}
      },
      "source": [
        "def hormigas(problem,N):\n",
        "  Nodos=list(problem.get_nodes())\n",
        "  Aristas=list(problem.get_edges())\n",
        "  \n",
        "  T=[[1 for _ in range(len(Nodos))] for _ in range(len(Nodos))]\n",
        "  Hormiga=[[0] for _ in range(N)]\n",
        "  \n",
        "     \n",
        "  for h in range(N):\n",
        "    for i in range(len(Nodos)-1):\n",
        "      Nuevo_Nodo=Add_Nodo(problem,Hormiga[h],T)\n",
        "      T=Incrementa_Feromona(problem,T,Hormiga[h])\n",
        "      T=Evaporar_Feromonas(T)\n",
        "  mejor_solucion=[]\n",
        "  mejor_distancia=10e10\n",
        "  for h in range(N):\n",
        "    distancia_actual=distancia_total(Hormiga[h],problem)\n",
        "    if distancia_actual < mejor_distancia:\n",
        "      mejor_solucion=Hormiga[h]\n",
        "      mejor_distancia=distancia_actual\n",
        "      \n",
        "  return mejor_solucion\n",
        " \n",
        "hormigas(problem,1000)"
      ],
      "execution_count": 0,
      "outputs": []
    }
  ]
}