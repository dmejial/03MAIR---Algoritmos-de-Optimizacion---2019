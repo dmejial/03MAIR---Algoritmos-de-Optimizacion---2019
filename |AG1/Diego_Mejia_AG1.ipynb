{
  "nbformat": 4,
  "nbformat_minor": 0,
  "metadata": {
    "colab": {
      "name": "Diego_Mejia_AG1.ipynb",
      "version": "0.3.2",
      "provenance": [],
      "include_colab_link": true
    },
    "kernelspec": {
      "name": "python3",
      "display_name": "Python 3"
    }
  },
  "cells": [
    {
      "cell_type": "markdown",
      "metadata": {
        "id": "view-in-github",
        "colab_type": "text"
      },
      "source": [
        "<a href=\"https://colab.research.google.com/github/dmejial/03MAIR---Algoritmos-de-Optimizacion---2019/blob/master/%7CAG1/Diego_Mejia_AG1.ipynb\" target=\"_parent\"><img src=\"https://colab.research.google.com/assets/colab-badge.svg\" alt=\"Open In Colab\"/></a>"
      ]
    },
    {
      "cell_type": "markdown",
      "metadata": {
        "id": "G75xib86YbLT",
        "colab_type": "text"
      },
      "source": [
        "Actividad Guiada 1 : AG1\n",
        "Diego Mejía\n",
        "https://colab.research.google.com/drive/1U3d25m95NgWADQYhX0sJzURgcsiVOzbV\n",
        "https://github.com/dmejial/03MAIR---Algoritmos-de-Optimizacion---2019\n",
        "\n",
        "Actividad con propuesta de solución de puntos adicionales"
      ]
    },
    {
      "cell_type": "code",
      "metadata": {
        "id": "9QTF_G5TYyJV",
        "colab_type": "code",
        "colab": {}
      },
      "source": [
        "from functools import wraps\n",
        "from time import time\n",
        "import numpy as np\n",
        "import random\n",
        "\n",
        "def calcular_tiempo(f):\n",
        "    @wraps(f)\n",
        "    def cronometro(*args, **kwargs):\n",
        "        t_inicial = time()\n",
        "        salida = f(*args, **kwargs)\n",
        "        t_final = time()\n",
        "        print('Tiempo transcurrido (en segundos): {}'.format(t_final - t_inicial))\n",
        "        return salida\n",
        "    return cronometro\n"
      ],
      "execution_count": 0,
      "outputs": []
    },
    {
      "cell_type": "code",
      "metadata": {
        "id": "EJMR_VlWalkc",
        "colab_type": "code",
        "outputId": "2833b942-88f9-4c24-9e65-6056250732c6",
        "colab": {
          "base_uri": "https://localhost:8080/",
          "height": 51
        }
      },
      "source": [
        "#Algoritmo divide y vencerás quick sort\n",
        "\n",
        "A = [9187, 244, 4054, 9222, 8373, 4993, 5265, 5470, 4519, 7182, 2035, 3506, 4337, 7580, 2554, 2824, 8357, 4447, 7379]\n",
        "#A=list(map(lambda x:random.randrange(1,1000),range(1,200)))\n",
        "\n",
        "def quick_sort(A):\n",
        "  if len(A)<=1:\n",
        "    return A\n",
        "  if len(A)==2:\n",
        "    return [min(A),max(A)]\n",
        "  \n",
        "  ln_A=len(A)\n",
        "  pivote =A[ln_A//2]#(A[0] + A[1] + A[2])/3\n",
        "  \n",
        "  IZQ=[]\n",
        "  DER=[]\n",
        "  for n in A:\n",
        "    if n<pivote:\n",
        "      IZQ.append(n)\n",
        "    else:\n",
        "      DER.append(n)\n",
        "  \n",
        "  return quick_sort(IZQ)+quick_sort(DER)\n",
        "\n",
        "@calcular_tiempo\n",
        "def ordenar(A):\n",
        "  print(quick_sort(A))\n",
        "  \n",
        "ordenar(A)  "
      ],
      "execution_count": 0,
      "outputs": [
        {
          "output_type": "stream",
          "text": [
            "[244, 2035, 2554, 2824, 3506, 4054, 4337, 4447, 4519, 4993, 5265, 5470, 7182, 7379, 7580, 8357, 8373, 9187, 9222]\n",
            "Tiempo transcurrido (en segundos): 0.004317522048950195\n"
          ],
          "name": "stdout"
        }
      ]
    },
    {
      "cell_type": "code",
      "metadata": {
        "id": "VRIQ2yLpAwRh",
        "colab_type": "code",
        "outputId": "52a6b505-d8d5-4e42-b712-4bd58ec11cb3",
        "colab": {
          "base_uri": "https://localhost:8080/",
          "height": 51
        }
      },
      "source": [
        "#Algoritmo voraz para la devolución del cambio\n",
        "SISTEMA= [25, 10, 5, 1]\n",
        "\n",
        "@calcular_tiempo\n",
        "def cambio_monedas(CANTIDAD,SISTEMA):\n",
        "  SOLUCION = [0 for i in range(len(SISTEMA)) ]\n",
        "  VALOR_ACUMULADO=0\n",
        "  \n",
        "  for i in range(len(SISTEMA)):\n",
        "    MONEDAS=int((CANTIDAD-VALOR_ACUMULADO)/SISTEMA[i])\n",
        "    SOLUCION[i]=MONEDAS\n",
        "    VALOR_ACUMULADO=VALOR_ACUMULADO+MONEDAS*SISTEMA[i]\n",
        "    if VALOR_ACUMULADO==CANTIDAD:\n",
        "      return SOLUCION\n",
        "    \n",
        "print(cambio_monedas(23, SISTEMA))"
      ],
      "execution_count": 0,
      "outputs": [
        {
          "output_type": "stream",
          "text": [
            "Tiempo transcurrido (en segundos): 1.0013580322265625e-05\n",
            "[0, 2, 0, 3]\n"
          ],
          "name": "stdout"
        }
      ]
    },
    {
      "cell_type": "code",
      "metadata": {
        "id": "jN8oavhRH-Ae",
        "colab_type": "code",
        "outputId": "9d052fea-f548-4073-804a-1cf00339a731",
        "colab": {
          "base_uri": "https://localhost:8080/",
          "height": 51
        }
      },
      "source": [
        "#Algoritmo con vuelta atrás problema nueve reinas\n",
        "\n",
        "def es_prometedora(solucion,etapa):\n",
        "  for i in range(etapa+1):\n",
        "    if solucion.count(solucion[i])>1:\n",
        "      return False\n",
        "    for j in range(i+1,etapa+1):\n",
        "      if abs(i-j)==abs(solucion[i-solucion[j]]):\n",
        "        return False\n",
        "  return True\n",
        "\n",
        "def reinas(N,solucion=[],etapa=0):\n",
        "  if len(solucion) == 0:\n",
        "     solucion=[0 for i in range(N)]\n",
        "      \n",
        "  for i in range(1, N+1):\n",
        "    solucion[etapa]=i\n",
        "    \n",
        "    if es_prometedora(solucion,etapa):\n",
        "      if etapa==N-1:\n",
        "        print('La solucion es',solucion)\n",
        "        \n",
        "      else:\n",
        "        reinas(N,solucion,etapa+1)\n",
        "    else:\n",
        "      None\n",
        "      \n",
        "reinas(4)\n",
        "    \n",
        "\n"
      ],
      "execution_count": 0,
      "outputs": [
        {
          "output_type": "stream",
          "text": [
            "La solucion es [1, 2, 4, 3]\n",
            "La solucion es [2, 1, 3, 4]\n"
          ],
          "name": "stdout"
        }
      ]
    },
    {
      "cell_type": "code",
      "metadata": {
        "id": "46XKmpV_5DLq",
        "colab_type": "code",
        "outputId": "7bb896c5-220f-4c29-f20b-b749543e1c90",
        "colab": {
          "base_uri": "https://localhost:8080/",
          "height": 51
        }
      },
      "source": [
        "#Encontrar los dos puntos más cercanos\n",
        "from scipy.spatial import distance\n",
        "test1d=[random.randrange(1,10000) for x in range(300)]\n",
        "test2d = [(random.randrange(1,10000),random.randrange(1,10000)) for x in range(1000)]\n",
        "test3d = [(random.randrange(1,10000),random.randrange(1,10000),random.randrange(1,10000)) for x in range(1000)]\n",
        "#lista=[1,5000,20,50,100,200]\n",
        "\n",
        "###Primer Intento: Fuerza Bruta\n",
        "\n",
        "import math\n",
        "def dist(p1, p2):\n",
        "    return distance.euclidean(p1, p2)#math.sqrt((p1[0] - p2[0]) ** 2 + (p1[1] - p2[1]) ** 2)\n",
        "\n",
        "@calcular_tiempo\n",
        "def brute(A):\n",
        "    mi = dist(A[0], A[1])\n",
        "    p1 = A[0]\n",
        "    p2 = A[1]\n",
        "    ln_A = len(A)\n",
        "    if ln_A == 2:\n",
        "        return p1, p2, mi\n",
        "    for i in range(ln_A-1):\n",
        "        for j in range(i + 1, ln_A):\n",
        "            if i != 0 and j != 1:\n",
        "                d = dist(A[i], A[j])\n",
        "                if d < mi:  \n",
        "                    mi = d\n",
        "                    p1, p2 = A[i], A[j]\n",
        "    return p1, p2, mi\n",
        "  \n",
        "#brute(test1d)\n",
        "#brute(test2d)\n",
        "brute(test3d)"
      ],
      "execution_count": 0,
      "outputs": [
        {
          "output_type": "stream",
          "text": [
            "Tiempo transcurrido (en segundos): 7.267097473144531\n"
          ],
          "name": "stdout"
        },
        {
          "output_type": "execute_result",
          "data": {
            "text/plain": [
              "((4205, 8965, 3439), (4180, 8925, 3429), 48.218253804964775)"
            ]
          },
          "metadata": {
            "tags": []
          },
          "execution_count": 7
        }
      ]
    },
    {
      "cell_type": "code",
      "metadata": {
        "id": "0DxCN-CANaoA",
        "colab_type": "code",
        "outputId": "b09e1326-3c6e-45c7-cdac-dbb5184cbe09",
        "colab": {
          "base_uri": "https://localhost:8080/",
          "height": 51
        }
      },
      "source": [
        "import itertools\n",
        "import math\n",
        "\n",
        "\n",
        "####Puntos mas cercanos 2d: divide y vencerás\n",
        "\n",
        "def dist2(a, b):\n",
        "    return distance.euclidean(a, b)#math.sqrt((a[0] - b[0]) ** 2 + (a[1] - b[1]) ** 2)\n",
        "\n",
        "def closest(A):\n",
        "    if len(A) <= 3:\n",
        "        return min((dist2(a, b), (a, b)) for a, b in itertools.combinations(A, 2))\n",
        "    pL = A[:len(A)//2]\n",
        "    pR = A[len(A)//2:]\n",
        "    result = min(closest(pL), closest(pR))\n",
        "    mx_x = A[len(A)// 2][0]\n",
        "    pL1=[(a,b) for a,b in pL if mx_x - result[0] <= a <= mx_x + result[0]]\n",
        "    pR1=[(a,b) for a,b in pR if mx_x - result[0] <= a <= mx_x + result[0]]\n",
        "    for left in pL1:\n",
        "        for right in pR1:\n",
        "            result = min(result, (dist2(left, right), (left, right)))\n",
        "    return result\n",
        "\n",
        "@calcular_tiempo\n",
        "def puntos_cercanos2d(A):\n",
        "  return closest(A)\n",
        "\n",
        "puntos_cercanos2d(test2d)\n"
      ],
      "execution_count": 0,
      "outputs": [
        {
          "output_type": "stream",
          "text": [
            "Tiempo transcurrido (en segundos): 0.04296588897705078\n"
          ],
          "name": "stdout"
        },
        {
          "output_type": "execute_result",
          "data": {
            "text/plain": [
              "(16.278820596099706, ((6370, 5500), (6367, 5516)))"
            ]
          },
          "metadata": {
            "tags": []
          },
          "execution_count": 31
        }
      ]
    },
    {
      "cell_type": "code",
      "metadata": {
        "id": "ZDCoSXbnZTk2",
        "colab_type": "code",
        "outputId": "a6b66698-17b8-4ff9-b78f-efd5821a6db7",
        "colab": {
          "base_uri": "https://localhost:8080/",
          "height": 51
        }
      },
      "source": [
        "import itertools\n",
        "import math\n",
        "\n",
        "\n",
        "####Puntos mas cercanos 1d: divide y vencerás\n",
        "\n",
        "def dist2(a, b):\n",
        "    return distance.euclidean(a, b)#math.sqrt((a[0] - b[0]) ** 2 + (a[1] - b[1]) ** 2)\n",
        "\n",
        "def closest(A):\n",
        "    if len(A) <= 3:\n",
        "        return min((dist2(a, b), (a, b)) for a, b in itertools.combinations(A, 2))\n",
        "    pL = A[:len(A)//2]\n",
        "    pR = A[len(A)//2:]\n",
        "    result = min(closest(pL), closest(pR))\n",
        "    mx_x = A[len(A)// 2]\n",
        "    pL1=[a for a in pL if mx_x - result[0] <= a <= mx_x + result[0]]\n",
        "    pR1=[a for a in pR if mx_x - result[0] <= a <= mx_x + result[0]]\n",
        "    for left in pL1:\n",
        "        for right in pR1:\n",
        "            result = min(result, (dist2(left, right), (left, right)))\n",
        "    return result\n",
        "\n",
        "\n",
        "@calcular_tiempo\n",
        "def puntos_cercanos1d(A):\n",
        "  return closest(A)\n",
        "\n",
        "puntos_cercanos1d(test1d)"
      ],
      "execution_count": 0,
      "outputs": [
        {
          "output_type": "stream",
          "text": [
            "Tiempo transcurrido (en segundos): 0.017891645431518555\n"
          ],
          "name": "stdout"
        },
        {
          "output_type": "execute_result",
          "data": {
            "text/plain": [
              "(0.0, (1071, 1071))"
            ]
          },
          "metadata": {
            "tags": []
          },
          "execution_count": 29
        }
      ]
    },
    {
      "cell_type": "code",
      "metadata": {
        "id": "0D2IygeLgJbG",
        "colab_type": "code",
        "outputId": "0d3465bf-4abb-4675-e830-61b76b96ab16",
        "colab": {
          "base_uri": "https://localhost:8080/",
          "height": 51
        }
      },
      "source": [
        "####Puntos mas cercanos 3d: divide y vencerás\n",
        "\n",
        "def dist2(a, b):\n",
        "    return distance.euclidean(a, b)#math.sqrt((a[0] - b[0]) ** 2 + (a[1] - b[1]) ** 2)\n",
        "\n",
        "def closest(A):\n",
        "    if len(A) <= 3:\n",
        "        return min((dist2(a, b), (a, b)) for a, b in itertools.combinations(A, 2))\n",
        "    pL = A[:len(A)//2]\n",
        "    pR = A[len(A)//2:]\n",
        "    result = min(closest(pL), closest(pR))\n",
        "    mx_x = A[len(A)// 2][0]\n",
        "    pL1=[(a,b,c) for a,b,c in pL if mx_x - result[0] <= a <= mx_x + result[0]]\n",
        "    pR1=[(a,b,c) for a,b,c in pR if mx_x - result[0] <= a <= mx_x + result[0]]\n",
        "    for left in pL1:\n",
        "        for right in pR1:\n",
        "            result = min(result, (dist2(left, right), (left, right)))\n",
        "    return result\n",
        "\n",
        "\n",
        "@calcular_tiempo\n",
        "def puntos_cercanos3d(A):\n",
        "  return closest(A)\n",
        "\n",
        "puntos_cercanos3d(test3d)"
      ],
      "execution_count": 0,
      "outputs": [
        {
          "output_type": "stream",
          "text": [
            "Tiempo transcurrido (en segundos): 0.08673930168151855\n"
          ],
          "name": "stdout"
        },
        {
          "output_type": "execute_result",
          "data": {
            "text/plain": [
              "(161.9629587282228, ((3264, 5489, 9714), (3394, 5575, 9670)))"
            ]
          },
          "metadata": {
            "tags": []
          },
          "execution_count": 30
        }
      ]
    }
  ]
}